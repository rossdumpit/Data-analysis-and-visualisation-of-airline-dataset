{
 "cells": [
  {
   "cell_type": "code",
   "execution_count": null,
   "id": "a889e41f",
   "metadata": {},
   "outputs": [],
   "source": [
    "#line graph\n",
    "lg = df['Age'].value_counts().reset_index(name='Counts')\n",
    "lg1 = lg.sort_values(by='Age', ascending = True)\n",
    "print(lg1)\n",
    "lg2 = px.line(lg1, x='Age', y='Counts', title='Age trend')\n",
    "lg2.show()"
   ]
  },
  {
   "cell_type": "code",
   "execution_count": null,
   "id": "466151bd",
   "metadata": {},
   "outputs": [],
   "source": [
    "print(df.columns.tolist())"
   ]
  },
  {
   "cell_type": "code",
   "execution_count": null,
   "id": "35230322",
   "metadata": {},
   "outputs": [],
   "source": [
    "bx = px.box(df, x='Continents', y='Age', title='Box Plot of Age Distribution by Continent')\n",
    "\n",
    "# Show the plot\n",
    "bx.show()"
   ]
  },
  {
   "cell_type": "code",
   "execution_count": null,
   "id": "26d9e913",
   "metadata": {},
   "outputs": [],
   "source": [
    "df['Flight Status'].unique()"
   ]
  },
  {
   "cell_type": "code",
   "execution_count": null,
   "id": "31be08ca",
   "metadata": {},
   "outputs": [],
   "source": [
    "#maching learning practice\n",
    "metal1 = {'Cancelled': 0,'On Time':1,'Delayed':2}\n",
    "metalG = {'Male':0, 'Female':1}\n",
    "metal = df"
   ]
  },
  {
   "cell_type": "code",
   "execution_count": null,
   "id": "99ffbce7",
   "metadata": {},
   "outputs": [],
   "source": [
    "metal['Flight Status'] = metal['Flight Status'].replace(metal1)\n",
    "metal['Gender'] = metal['Gender'].replace(metalG)"
   ]
  },
  {
   "cell_type": "code",
   "execution_count": null,
   "id": "52b8f0d7",
   "metadata": {},
   "outputs": [],
   "source": [
    "for label in ['Gender','Age']: \n",
    "    plt.hist(metal[metal['Flight Status']==0][label], color ='red', label = 'Cancelled', alpha=0.7, density=True) \n",
    "    plt.hist(metal[metal['Flight Status']==1][label], color ='blue', label = 'On Time', alpha=0.7, density=True) \n",
    "    plt.hist(metal[metal['Flight Status']==2][label], color ='green', label = 'Delayed', alpha=0.7, density=True) \n",
    "    plt.title(label) \n",
    "    plt.ylabel('Probability') \n",
    "    plt.xlabel('label') \n",
    "    plt.show()"
   ]
  },
  {
   "cell_type": "code",
   "execution_count": null,
   "id": "ad34f6c6",
   "metadata": {},
   "outputs": [],
   "source": [
    "import plotly.graph_objects as pg\n",
    "# Define encoding dictionaries\n",
    "metal1 = {'Cancelled': 0, 'On Time': 1, 'Delayed': 2}\n",
    "metalG = {'Male': 0, 'Female': 1}\n",
    "\n",
    "# Replace categorical values with numerical values\n",
    "df['Flight Status'] = df['Flight Status'].replace(metal1)\n",
    "df['Gender'] = df['Gender'].replace(metalG)\n",
    "\n",
    "# Set the figure size\n",
    "fs = pg.Figure()\n",
    "\n",
    "# Visualize histograms\n",
    "for label in ['Gender', 'Age']:\n",
    "    fs.add_trace(pg.Histogram(x=df[df['Flight Status'] == 0][label], marker_color='red', opacity=0.7, name='Cancelled'))\n",
    "    fs.add_trace(pg.Histogram(x=df[df['Flight Status'] == 1][label], marker_color='blue', opacity=0.7, name='On Time'))\n",
    "    fs.add_trace(pg.Histogram(x=df[df['Flight Status'] == 2][label], marker_color='green', opacity=0.7, name='Delayed'))\n",
    "\n",
    "    fs.update_layout(\n",
    "        title=label,\n",
    "        xaxis_title=label,\n",
    "        yaxis_title='Probability',\n",
    "        barmode='overlay',  # Overlay histograms\n",
    "        bargap=0.1,  # Gap between bars\n",
    "        showlegend=True\n",
    "    )\n",
    "\n",
    "    fs.update_layout(width=500, height=500)  # Set figure size to 20x10 inches\n",
    "\n",
    "fs.show()"
   ]
  },
  {
   "cell_type": "code",
   "execution_count": null,
   "id": "adca015d",
   "metadata": {},
   "outputs": [],
   "source": [
    "#train, valid, test\n",
    "train, valid, test = np.split(metal.sample(frac=1), [int(0.6*len(metal)), int(0.8*len(metal))])\n"
   ]
  },
  {
   "cell_type": "code",
   "execution_count": null,
   "id": "e6161e34",
   "metadata": {},
   "outputs": [],
   "source": [
    "print(len(train[train['Flight Status']==0]))\n",
    "print(len(train[train['Flight Status']==1]))\n",
    "print(len(train[train['Flight Status']==2]))"
   ]
  },
  {
   "cell_type": "code",
   "execution_count": null,
   "id": "3d0b9bfa",
   "metadata": {},
   "outputs": [],
   "source": [
    "#knn\n",
    "from sklearn.preprocessing import StandardScaler"
   ]
  },
  {
   "cell_type": "code",
   "execution_count": null,
   "id": "638a74de",
   "metadata": {},
   "outputs": [],
   "source": [
    "dh = pd.read_csv(path)\n",
    "age_range = ['0-15','16-30','31-45','46-60','69-75','75-90','91-100']\n",
    "bins = [0,15,30,45,60,75,90,100]\n",
    "dh['Age Range']= pd.cut(dh['Age'],bins=bins, labels = age_range, right=False)\n",
    "teens = dh.groupby('Age Range').count()\n",
    "print(teens)"
   ]
  },
  {
   "cell_type": "code",
   "execution_count": null,
   "id": "a122299f",
   "metadata": {},
   "outputs": [],
   "source": [
    "dh.head()\n",
    "# Filter the DataFrame for rows where the 'Age Range' is '16-30'\n",
    "filtered_data = dh[dh['Age Range'] == '16-30']\n",
    "\n",
    "# Group the filtered data by 'Departure Date' and count the occurrences\n",
    "occurrences_by_date = filtered_data.groupby('Departure Date').size()\n",
    "\n",
    "print(occurrences_by_date)\n",
    "occurrences_by_date = filtered_data.groupby('Departure Date').size()\n",
    "\n",
    "# Convert index (Departure Date) to datetime format\n",
    "occurrences_by_date.index = pd.to_datetime(occurrences_by_date.index)\n",
    "\n",
    "# Sort the data by date\n",
    "occurrences_by_date = occurrences_by_date.sort_index()\n",
    "\n",
    "# Plotting the line graph\n",
    "plt.figure(figsize=(10, 6))\n",
    "plt.plot(occurrences_by_date.index, occurrences_by_date.values, marker='o', linestyle='-')\n",
    "\n",
    "# Adding title and labels\n",
    "plt.title('Occurrences of 16-30 Age Range by Departure Date')\n",
    "plt.xlabel('Departure Date')\n",
    "plt.ylabel('Number of Occurrences')\n",
    "plt.xticks(rotation=45)  # Rotate x-axis labels if needed\n",
    "plt.tight_layout()  # Adjust layout to prevent overlapping labels\n",
    "\n",
    "# Displaying the plot\n",
    "plt.show()"
   ]
  },
  {
   "cell_type": "code",
   "execution_count": null,
   "id": "4c98abe0",
   "metadata": {},
   "outputs": [],
   "source": [
    "fig5 = px.bar(continent_teens, x='Continents', y='count', title = 'Continent count for teens 16 -30')\n",
    "fig5.show()"
   ]
  },
  {
   "cell_type": "code",
   "execution_count": null,
   "id": "a7c438b5",
   "metadata": {},
   "outputs": [],
   "source": [
    "import plotly.express as px\n",
    "\n",
    "# Filter the DataFrame for rows where the 'Age Range' is '16-30'\n",
    "filtered_data = dh[dh['Age Range'] == '16-30']\n",
    "\n",
    "# Group the filtered data by 'Departure Date' and count the occurrences\n",
    "occurrences_by_date = filtered_data.groupby('Departure Date').size().reset_index(name='Occurrences')\n",
    "\n",
    "# Convert 'Departure Date' to datetime format\n",
    "occurrences_by_date['Departure Date'] = pd.to_datetime(occurrences_by_date['Departure Date'])\n",
    "\n",
    "# Create a line plot using Plotly\n",
    "fig = px.line(occurrences_by_date, x='Departure Date', y='Occurrences', \n",
    "              title='Occurrences of 16-30 Age Range by Departure Date')\n",
    "\n",
    "# Update layout\n",
    "fig.update_layout(xaxis_title='Departure Date', yaxis_title='Occurrences')\n",
    "\n",
    "# Show the plot\n",
    "fig.show()\n"
   ]
  },
  {
   "cell_type": "code",
   "execution_count": null,
   "id": "b2a29635",
   "metadata": {},
   "outputs": [],
   "source": [
    "mean = np.mean(df['Age'])\n",
    "print(\"Mean: \", mean)"
   ]
  },
  {
   "cell_type": "code",
   "execution_count": null,
   "id": "09728695",
   "metadata": {},
   "outputs": [],
   "source": [
    "median = np.median(df['Age'])\n",
    "print('Median: ', median)"
   ]
  },
  {
   "cell_type": "code",
   "execution_count": null,
   "id": "6b7d354d",
   "metadata": {},
   "outputs": [],
   "source": [
    "#sns.heatmap(df.isna(),yticklabels=True)\n",
    "# Create a heatmap to visualize missing values\n",
    "fig4 = px.imshow(\n",
    "    df.isna().astype(int),\n",
    "    color_continuous_scale='Viridis'\n",
    ")\n",
    "\n",
    "# Update layout\n",
    "fig4.update_layout(\n",
    "    title='Missing Values Heatmap',\n",
    "    xaxis_title='Columns',\n",
    "    yaxis_title='Rows'\n",
    ")\n",
    "\n",
    "# Show the plot\n",
    "fig4.show()"
   ]
  },
  {
   "cell_type": "code",
   "execution_count": null,
   "id": "39299f81",
   "metadata": {},
   "outputs": [],
   "source": [
    "dg = pd.read_csv(path)\n",
    "dg.head()"
   ]
  },
  {
   "cell_type": "code",
   "execution_count": null,
   "id": "c2b9e54d",
   "metadata": {},
   "outputs": [],
   "source": [
    "dg = dg.drop(['First Name', 'Last Name','Airport Country Code',\n",
    "              'Pilot Name','Arrival Airport','Airport Continent' ], axis =1)\n",
    "dg.columns"
   ]
  },
  {
   "cell_type": "code",
   "execution_count": null,
   "id": "3eabb23e",
   "metadata": {},
   "outputs": [],
   "source": [
    "dg.head(5)\n"
   ]
  },
  {
   "cell_type": "code",
   "execution_count": null,
   "id": "e741befb",
   "metadata": {},
   "outputs": [],
   "source": [
    "dg1 = dg[['Airport Name', 'Country Name']].value_counts().reset_index(name='Counts')"
   ]
  },
  {
   "cell_type": "code",
   "execution_count": null,
   "id": "496edfc7",
   "metadata": {},
   "outputs": [],
   "source": [
    "dg1_sort = dg1.sort_values(by='Counts', ascending=False)\n",
    "dg1_sort.head()\n",
    "dg2_sort = dg1_sort.head(10)"
   ]
  },
  {
   "cell_type": "code",
   "execution_count": null,
   "id": "5dd330e4",
   "metadata": {},
   "outputs": [],
   "source": [
    "import folium\n",
    "from geopy.geocoders import Nominatim\n",
    "from folium.plugins import MarkerCluster"
   ]
  },
  {
   "cell_type": "code",
   "execution_count": null,
   "id": "7af7393f",
   "metadata": {},
   "outputs": [],
   "source": [
    "dg2_sort = dg1_sort.head(10)"
   ]
  },
  {
   "cell_type": "code",
   "execution_count": null,
   "id": "05fdb08e",
   "metadata": {},
   "outputs": [],
   "source": [
    "dg2_sort"
   ]
  },
  {
   "cell_type": "code",
   "execution_count": null,
   "id": "66d490f7",
   "metadata": {},
   "outputs": [],
   "source": [
    "# Initialize Nominatim geocoder\n",
    "geolocator = Nominatim(user_agent=\"airport_locator\")\n",
    "\n",
    "# Create a base map\n",
    "m = folium.Map(zoom_start=4)\n",
    "\n",
    "# Create a MarkerCluster layer for airport markers\n",
    "marker_cluster = MarkerCluster().add_to(m)\n",
    "\n",
    "# Loop through each airport and geocode its location\n",
    "for index, row in dg2_sort.iterrows():\n",
    "    location = geolocator.geocode(f\"{row['Airport Name']}, {row['Country Name']}\")\n",
    "    if location:\n",
    "        folium.Marker([location.latitude, location.longitude], popup=row['Airport Name']).add_to(marker_cluster)\n",
    "\n",
    "# Display the map\n",
    "m\n",
    "\n"
   ]
  },
  {
   "cell_type": "code",
   "execution_count": null,
   "id": "951286be",
   "metadata": {},
   "outputs": [],
   "source": [
    "from wordcloud import WordCloud\n",
    "import matplotlib.pyplot as plt\n",
    "\n",
    "# Count occurrences of each country name\n",
    "country_counts = dg['Country Name'].value_counts()\n",
    "print(country_counts)\n",
    "\n",
    "# Convert counts to a dictionary\n",
    "country_counts_dict = country_counts.to_dict()\n",
    "\n",
    "# Create a WordCloud object\n",
    "wordcloud = WordCloud(width=800, height=400, background_color='white').generate_from_frequencies(country_counts_dict)\n",
    "\n",
    "# Display the WordCloud\n",
    "plt.figure(figsize=(10, 5))\n",
    "plt.imshow(wordcloud, interpolation='bilinear')\n",
    "plt.axis('off')\n",
    "plt.show()"
   ]
  },
  {
   "cell_type": "code",
   "execution_count": null,
   "id": "b49bf784",
   "metadata": {},
   "outputs": [],
   "source": [
    "flight_data = df[df['Country Name'].isin(['United Kingdom','Germany'])]['Country Name'].value_counts()"
   ]
  },
  {
   "cell_type": "code",
   "execution_count": null,
   "id": "d1022217",
   "metadata": {},
   "outputs": [],
   "source": [
    "fd = flight_data.reset_index()\n",
    "fd.columns = ['Country', 'Count']\n",
    "fd.head()"
   ]
  },
  {
   "cell_type": "code",
   "execution_count": null,
   "id": "9cf9a21d",
   "metadata": {},
   "outputs": [],
   "source": [
    "plt.figure(figsize=(8, 6))\n",
    "heatmap = sns.heatmap(fd.pivot_table(index='Country', values='Count'), annot=True, fmt='d', cmap='YlGnBu')\n",
    "heatmap.set_title('Flights Between Germany and the UK')\n",
    "plt.show()\n"
   ]
  },
  {
   "cell_type": "code",
   "execution_count": null,
   "id": "9fc16f15",
   "metadata": {},
   "outputs": [],
   "source": [
    "for label in ['Gender', 'Departure Date']:\n",
    "    fs.add_trace(pg.Histogram(x=df[df['Flight Status'] == 0][label], marker_color='red', opacity=0.7, name='Cancelled'))\n",
    "    fs.add_trace(pg.Histogram(x=df[df['Flight Status'] == 1][label], marker_color='blue', opacity=0.7, name='On Time'))\n",
    "    fs.add_trace(pg.Histogram(x=df[df['Flight Status'] == 2][label], marker_color='green', opacity=0.7, name='Delayed'))\n",
    "\n",
    "    fs.update_layout(\n",
    "        title=label,\n",
    "        xaxis_title=label,\n",
    "        yaxis_title='Probability',\n",
    "        barmode='overlay',  # Overlay histograms\n",
    "        bargap=0.1,  # Gap between bars\n",
    "        showlegend=True\n",
    "    )\n",
    "\n",
    "    fs.update_layout(width=500, height=500)  # Set figure size to 20x10 inches\n",
    "\n",
    "fs.show()"
   ]
  },
  {
   "cell_type": "code",
   "execution_count": null,
   "id": "a423a6be",
   "metadata": {},
   "outputs": [],
   "source": [
    "cont = df['Country Name'].value_counts().nlargest(10).index\n",
    "cont1 = df[df['Country Name'].isin(cont)]\n",
    "print(cont)\n",
    "cont3 = df['Country Name'].value_counts()\n",
    "cont3.head(10)"
   ]
  },
  {
   "cell_type": "code",
   "execution_count": null,
   "id": "d2fc33c3",
   "metadata": {},
   "outputs": [],
   "source": [
    "plt.figure(figsize=(10,6))\n",
    "for country in cont:\n",
    "    plt.scatter(cont1[cont1['Country Name'] == country]['Age'], \n",
    "                cont1[cont1['Country Name'] == country]['Country Name'],\n",
    "                label=country)\n",
    "# Adding labels and title\n",
    "plt.xlabel('Age')\n",
    "plt.ylabel('Country Name')\n",
    "plt.title('Scatter Plot of Age vs Top 10 Countries')\n",
    "\n",
    "# Adding legend\n",
    "plt.legend()\n",
    "\n",
    "# Show plot\n",
    "plt.show()"
   ]
  },
  {
   "cell_type": "code",
   "execution_count": null,
   "id": "4a3ecac4",
   "metadata": {},
   "outputs": [],
   "source": [
    "from scipy.stats import chi2_contingency"
   ]
  },
  {
   "cell_type": "code",
   "execution_count": null,
   "id": "fa1cb156",
   "metadata": {},
   "outputs": [],
   "source": [
    "# Create a contingency table (cross-tabulation) of the two categorical variables\n",
    "# For example, let's say you have two categorical variables: 'Gender' and 'Smoking_Status'\n",
    "# You can create a contingency table like this:\n",
    "contingency_table = pd.crosstab(df['Gender'], df['Continents'])\n",
    "\n",
    "# Perform the chi-square test\n",
    "chi2_stat, p_val, dof, expected = chi2_contingency(contingency_table)\n",
    "\n",
    "# Print the results\n",
    "print(\"Chi-square Statistic:\", chi2_stat)\n",
    "print(\"P-value:\", p_val)\n",
    "print(\"Degrees of Freedom:\", dof)\n",
    "print(\"Expected Frequencies Table:\\n\", expected)"
   ]
  },
  {
   "cell_type": "code",
   "execution_count": null,
   "id": "c147de0a",
   "metadata": {},
   "outputs": [],
   "source": []
  }
 ],
 "metadata": {
  "kernelspec": {
   "display_name": "Python 3 (ipykernel)",
   "language": "python",
   "name": "python3"
  },
  "language_info": {
   "codemirror_mode": {
    "name": "ipython",
    "version": 3
   },
   "file_extension": ".py",
   "mimetype": "text/x-python",
   "name": "python",
   "nbconvert_exporter": "python",
   "pygments_lexer": "ipython3",
   "version": "3.11.5"
  }
 },
 "nbformat": 4,
 "nbformat_minor": 5
}
